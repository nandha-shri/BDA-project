{
  "cells": [
    {
      "cell_type": "code",
      "source": [
        "from google.colab import drive\n",
        "drive.mount('/content/drive')"
      ],
      "metadata": {
        "id": "9F0QHM9X9L6T"
      },
      "execution_count": null,
      "outputs": []
    },
    {
      "cell_type": "code",
      "execution_count": null,
      "metadata": {
        "colab": {
          "base_uri": "https://localhost:8080/"
        },
        "id": "IworJlagD-uy",
        "outputId": "88680997-f87e-4c58-90f8-f5630c90f431"
      },
      "outputs": [
        {
          "output_type": "stream",
          "name": "stdout",
          "text": [
            "Collecting pyspark\n",
            "  Downloading pyspark-3.5.0.tar.gz (316.9 MB)\n",
            "\u001b[2K     \u001b[90m━━━━━━━━━━━━━━━━━━━━━━━━━━━━━━━━━━━━━━━━\u001b[0m \u001b[32m316.9/316.9 MB\u001b[0m \u001b[31m3.9 MB/s\u001b[0m eta \u001b[36m0:00:00\u001b[0m\n",
            "\u001b[?25h  Preparing metadata (setup.py) ... \u001b[?25l\u001b[?25hdone\n",
            "Requirement already satisfied: py4j==0.10.9.7 in /usr/local/lib/python3.10/dist-packages (from pyspark) (0.10.9.7)\n",
            "Building wheels for collected packages: pyspark\n",
            "  Building wheel for pyspark (setup.py) ... \u001b[?25l\u001b[?25hdone\n",
            "  Created wheel for pyspark: filename=pyspark-3.5.0-py2.py3-none-any.whl size=317425344 sha256=827e0a73f2fb29643bf0af69aff8a8dc9f55ecd3c6624ff9672faf15b8684a89\n",
            "  Stored in directory: /root/.cache/pip/wheels/41/4e/10/c2cf2467f71c678cfc8a6b9ac9241e5e44a01940da8fbb17fc\n",
            "Successfully built pyspark\n",
            "Installing collected packages: pyspark\n",
            "Successfully installed pyspark-3.5.0\n"
          ]
        }
      ],
      "source": [
        "pip install pyspark"
      ]
    },
    {
      "cell_type": "code",
      "execution_count": null,
      "metadata": {
        "id": "onMt8nud1k_T"
      },
      "outputs": [],
      "source": [
        "from pyspark.sql import SparkSession"
      ]
    },
    {
      "cell_type": "code",
      "execution_count": null,
      "metadata": {
        "id": "e4A9c9uW_Iwx"
      },
      "outputs": [],
      "source": [
        "import numpy as np\n",
        "import pandas as pd\n",
        "import matplotlib.pyplot as plt\n",
        "import seaborn as sns"
      ]
    },
    {
      "cell_type": "code",
      "execution_count": null,
      "metadata": {
        "colab": {
          "base_uri": "https://localhost:8080/",
          "height": 219
        },
        "id": "-jOF9_YC1nCU",
        "outputId": "41e696bf-7332-40ae-c863-e8ab71a85377"
      },
      "outputs": [
        {
          "output_type": "execute_result",
          "data": {
            "text/plain": [
              "<pyspark.sql.session.SparkSession at 0x7c3ca694cfa0>"
            ],
            "text/html": [
              "\n",
              "            <div>\n",
              "                <p><b>SparkSession - in-memory</b></p>\n",
              "                \n",
              "        <div>\n",
              "            <p><b>SparkContext</b></p>\n",
              "\n",
              "            <p><a href=\"http://709acea10807:4040\">Spark UI</a></p>\n",
              "\n",
              "            <dl>\n",
              "              <dt>Version</dt>\n",
              "                <dd><code>v3.5.0</code></dd>\n",
              "              <dt>Master</dt>\n",
              "                <dd><code>local[*]</code></dd>\n",
              "              <dt>AppName</dt>\n",
              "                <dd><code>BDA</code></dd>\n",
              "            </dl>\n",
              "        </div>\n",
              "        \n",
              "            </div>\n",
              "        "
            ]
          },
          "metadata": {},
          "execution_count": 5
        }
      ],
      "source": [
        "spark = SparkSession.builder.appName('BDA').getOrCreate()\n",
        "spark"
      ]
    },
    {
      "cell_type": "markdown",
      "metadata": {
        "id": "nxSnTqalA-OQ"
      },
      "source": [
        "**Events dataset**\n",
        "\n",
        "---\n",
        "\n",
        "\n",
        "\n",
        "---\n",
        "\n"
      ]
    },
    {
      "cell_type": "code",
      "execution_count": null,
      "metadata": {
        "id": "hLk2dvd-2Qb_"
      },
      "outputs": [],
      "source": [
        "eventsDf = spark.read.options(header=\"true\",\\\n",
        "                              inferSchema=\"true\",\\\n",
        "                              nullValue=\"NA\",\\\n",
        "                              mode=\"failfast\")\\\n",
        "                             .csv(\"/content/drive/MyDrive/bdaproj/events.csv\")"
      ]
    },
    {
      "cell_type": "code",
      "execution_count": null,
      "metadata": {
        "colab": {
          "base_uri": "https://localhost:8080/"
        },
        "id": "k-uisVAP_B_-",
        "outputId": "46e26e03-2c8b-46c9-859a-25cd3d3a83f5"
      },
      "outputs": [
        {
          "output_type": "stream",
          "name": "stdout",
          "text": [
            "Data is having 941009 rows and 22 columns\n"
          ]
        }
      ],
      "source": [
        "print('Data is having', eventsDf.count(), \"rows and\", len(eventsDf.columns), 'columns')"
      ]
    },
    {
      "cell_type": "code",
      "execution_count": null,
      "metadata": {
        "colab": {
          "base_uri": "https://localhost:8080/"
        },
        "id": "t1a1prdD875m",
        "outputId": "d792a561-7b82-4c25-e4e5-781f84b5cc6d"
      },
      "outputs": [
        {
          "output_type": "stream",
          "name": "stdout",
          "text": [
            "+---------+----------+----------+----+--------------------+----------+-----------+----+-----------------+-----------------+-------------------+----------------+---------+----------+----------+------------+-------+--------+--------+-------------+---------+----------+\n",
            "|  id_odsp|  id_event|sort_order|time|                text|event_type|event_type2|side|       event_team|         opponent|             player|         player2|player_in|player_out|shot_place|shot_outcome|is_goal|location|bodypart|assist_method|situation|fast_break|\n",
            "+---------+----------+----------+----+--------------------+----------+-----------+----+-----------------+-----------------+-------------------+----------------+---------+----------+----------+------------+-------+--------+--------+-------------+---------+----------+\n",
            "|UFot0hit/| UFot0hit1|         1|   2|Attempt missed. M...|         1|         12|   2|       Hamburg SV|Borussia Dortmund|      mladen petric|     gokhan tore|     NULL|      NULL|         6|           2|      0|       9|       2|            1|        1|         0|\n",
            "|UFot0hit/| UFot0hit2|         2|   4|Corner,  Borussia...|         2|       NULL|   1|Borussia Dortmund|       Hamburg SV|   dennis diekmeier|dennis diekmeier|     NULL|      NULL|      NULL|        NULL|      0|    NULL|    NULL|            0|     NULL|         0|\n",
            "|UFot0hit/| UFot0hit3|         3|   4|Corner,  Borussia...|         2|       NULL|   1|Borussia Dortmund|       Hamburg SV|   heiko westermann|heiko westermann|     NULL|      NULL|      NULL|        NULL|      0|    NULL|    NULL|            0|     NULL|         0|\n",
            "|UFot0hit/| UFot0hit4|         4|   7|Foul by Sven Bend...|         3|       NULL|   1|Borussia Dortmund|       Hamburg SV|        sven bender|            NULL|     NULL|      NULL|      NULL|        NULL|      0|    NULL|    NULL|            0|     NULL|         0|\n",
            "|UFot0hit/| UFot0hit5|         5|   7|Gokhan Tore (Hamb...|         8|       NULL|   2|       Hamburg SV|Borussia Dortmund|        gokhan tore|            NULL|     NULL|      NULL|      NULL|        NULL|      0|       2|    NULL|            0|     NULL|         0|\n",
            "|UFot0hit/| UFot0hit6|         6|   9|Hand ball by Jose...|        10|       NULL|   2|       Hamburg SV|Borussia Dortmund|jose paolo guerrero|            NULL|     NULL|      NULL|      NULL|        NULL|      0|    NULL|    NULL|            0|     NULL|         0|\n",
            "|UFot0hit/| UFot0hit7|         7|  10|Corner,  Hamburg....|         2|       NULL|   2|       Hamburg SV|Borussia Dortmund|    lukasz piszczek| lukasz piszczek|     NULL|      NULL|      NULL|        NULL|      0|    NULL|    NULL|            0|     NULL|         0|\n",
            "|UFot0hit/| UFot0hit8|         8|  11|Chris Lowe (Borus...|         8|       NULL|   1|Borussia Dortmund|       Hamburg SV|         chris lowe|            NULL|     NULL|      NULL|      NULL|        NULL|      0|       2|    NULL|            0|     NULL|         0|\n",
            "|UFot0hit/| UFot0hit9|         9|  11|Foul by Gojko Kac...|         3|       NULL|   2|       Hamburg SV|Borussia Dortmund|        gojko kacar|            NULL|     NULL|      NULL|      NULL|        NULL|      0|    NULL|    NULL|            0|     NULL|         0|\n",
            "|UFot0hit/|UFot0hit10|        10|  13|Foul by Gokhan To...|         3|       NULL|   2|       Hamburg SV|Borussia Dortmund|        gokhan tore|            NULL|     NULL|      NULL|      NULL|        NULL|      0|    NULL|    NULL|            0|     NULL|         0|\n",
            "+---------+----------+----------+----+--------------------+----------+-----------+----+-----------------+-----------------+-------------------+----------------+---------+----------+----------+------------+-------+--------+--------+-------------+---------+----------+\n",
            "only showing top 10 rows\n",
            "\n"
          ]
        }
      ],
      "source": [
        "eventsDf.show(10)"
      ]
    },
    {
      "cell_type": "code",
      "execution_count": null,
      "metadata": {
        "colab": {
          "base_uri": "https://localhost:8080/"
        },
        "id": "WFCz8ZrN8tyO",
        "outputId": "b963779a-ed92-4885-a523-06524eb36194"
      },
      "outputs": [
        {
          "output_type": "stream",
          "name": "stdout",
          "text": [
            "root\n",
            " |-- id_odsp: string (nullable = true)\n",
            " |-- id_event: string (nullable = true)\n",
            " |-- sort_order: integer (nullable = true)\n",
            " |-- time: integer (nullable = true)\n",
            " |-- text: string (nullable = true)\n",
            " |-- event_type: integer (nullable = true)\n",
            " |-- event_type2: integer (nullable = true)\n",
            " |-- side: integer (nullable = true)\n",
            " |-- event_team: string (nullable = true)\n",
            " |-- opponent: string (nullable = true)\n",
            " |-- player: string (nullable = true)\n",
            " |-- player2: string (nullable = true)\n",
            " |-- player_in: string (nullable = true)\n",
            " |-- player_out: string (nullable = true)\n",
            " |-- shot_place: integer (nullable = true)\n",
            " |-- shot_outcome: integer (nullable = true)\n",
            " |-- is_goal: integer (nullable = true)\n",
            " |-- location: integer (nullable = true)\n",
            " |-- bodypart: integer (nullable = true)\n",
            " |-- assist_method: integer (nullable = true)\n",
            " |-- situation: integer (nullable = true)\n",
            " |-- fast_break: integer (nullable = true)\n",
            "\n"
          ]
        }
      ],
      "source": [
        "eventsDf.printSchema()"
      ]
    },
    {
      "cell_type": "markdown",
      "metadata": {
        "id": "OAq6ONkN_453"
      },
      "source": [
        "**NULL VALUES CHECKING**"
      ]
    },
    {
      "cell_type": "code",
      "execution_count": null,
      "metadata": {
        "colab": {
          "base_uri": "https://localhost:8080/"
        },
        "id": "qg1yZSzo_X67",
        "outputId": "288aac4b-0d81-4c0b-85b5-bf91446c318d"
      },
      "outputs": [
        {
          "output_type": "stream",
          "name": "stdout",
          "text": [
            "+------+----------+--------+----------+-----------+----------+------------+--------+--------+-------------+---------+\n",
            "|player|event_team|opponent|event_type|event_type2|shot_place|shot_outcome|location|bodypart|assist_method|situation|\n",
            "+------+----------+--------+----------+-----------+----------+------------+--------+--------+-------------+---------+\n",
            "| 60736|         0|       0|         0|     726716|    713550|      712511|  473942|  711824|            0|   711872|\n",
            "+------+----------+--------+----------+-----------+----------+------------+--------+--------+-------------+---------+\n",
            "\n"
          ]
        }
      ],
      "source": [
        "from pyspark.sql.functions import isnan, when, count, col\n",
        "tempDF = eventsDf[['player', 'event_team', 'opponent', 'event_type', 'event_type2', 'shot_place',\n",
        "                   'shot_outcome', 'location', 'bodypart', 'assist_method', 'situation']]\n",
        "\n",
        "tempDF.select([count(when(isnan(c) | col(c).isNull(), c)).alias(c) for c in tempDF.columns]).show()"
      ]
    },
    {
      "cell_type": "markdown",
      "metadata": {
        "id": "kEN60BCaAEc6"
      },
      "source": [
        "**HANDLING NULL VALUES**"
      ]
    },
    {
      "cell_type": "code",
      "execution_count": null,
      "metadata": {
        "id": "f5JKv_9U_-8M"
      },
      "outputs": [],
      "source": [
        "eventsDf = eventsDf.na.fill({'player': 'NA', 'event_team': 'NA', 'opponent': 'NA',\n",
        "                             'event_type': 'NA', 'event_type2': 'NA', 'shot_place': 'NA',\n",
        "                             'shot_outcome': 'NA', 'location': 'NA', 'bodypart': 'NA',\n",
        "                             'assist_method': 'NA', 'situation': 'NA'})"
      ]
    },
    {
      "cell_type": "markdown",
      "metadata": {
        "id": "VUEgMx-bBH2Z"
      },
      "source": [
        "**GAME INFO DATASET**\n",
        "\n",
        "---\n",
        "\n",
        "\n",
        "\n",
        "---\n",
        "\n"
      ]
    },
    {
      "cell_type": "code",
      "execution_count": null,
      "metadata": {
        "id": "XPb-X-I2ANhG"
      },
      "outputs": [],
      "source": [
        "gameDf = spark.read.options(header=\"true\",\\\n",
        "                              inferSchema=\"true\",\\\n",
        "                              nullValue=\"NA\",\\\n",
        "                              mode=\"failfast\")\\\n",
        "                             .csv(\"/content/drive/MyDrive/bdaproj/ginf.csv\")"
      ]
    },
    {
      "cell_type": "code",
      "execution_count": null,
      "metadata": {
        "id": "n06gBJpbBRmk"
      },
      "outputs": [],
      "source": [
        "print('Data is having', gameDf.count(), \"rows and\", len(gameDf.columns), 'columns' )"
      ]
    },
    {
      "cell_type": "code",
      "execution_count": null,
      "metadata": {
        "colab": {
          "base_uri": "https://localhost:8080/"
        },
        "id": "p-wPuaXQBS2J",
        "outputId": "f2df732a-bdd1-494f-9dd7-fa169f1a2040"
      },
      "outputs": [
        {
          "output_type": "stream",
          "name": "stdout",
          "text": [
            "root\n",
            " |-- id_odsp: string (nullable = true)\n",
            " |-- link_odsp: string (nullable = true)\n",
            " |-- adv_stats: boolean (nullable = true)\n",
            " |-- date: date (nullable = true)\n",
            " |-- league: string (nullable = true)\n",
            " |-- season: integer (nullable = true)\n",
            " |-- country: string (nullable = true)\n",
            " |-- ht: string (nullable = true)\n",
            " |-- at: string (nullable = true)\n",
            " |-- fthg: integer (nullable = true)\n",
            " |-- ftag: integer (nullable = true)\n",
            " |-- odd_h: double (nullable = true)\n",
            " |-- odd_d: double (nullable = true)\n",
            " |-- odd_a: double (nullable = true)\n",
            " |-- odd_over: double (nullable = true)\n",
            " |-- odd_under: double (nullable = true)\n",
            " |-- odd_bts: double (nullable = true)\n",
            " |-- odd_bts_n: double (nullable = true)\n",
            "\n"
          ]
        }
      ],
      "source": [
        "gameDf.printSchema()"
      ]
    },
    {
      "cell_type": "code",
      "execution_count": null,
      "metadata": {
        "colab": {
          "base_uri": "https://localhost:8080/"
        },
        "id": "-x-4baCzBU95",
        "outputId": "78ce57cb-99ec-4f10-ab3a-5fc2cb635566"
      },
      "outputs": [
        {
          "output_type": "stream",
          "name": "stdout",
          "text": [
            "+---------+--------------------+---------+----------+------+------+-------+-------------------+--------------------+----+----+-----+-----+-----+--------+---------+-------+---------+\n",
            "|  id_odsp|           link_odsp|adv_stats|      date|league|season|country|                 ht|                  at|fthg|ftag|odd_h|odd_d|odd_a|odd_over|odd_under|odd_bts|odd_bts_n|\n",
            "+---------+--------------------+---------+----------+------+------+-------+-------------------+--------------------+----+----+-----+-----+-----+--------+---------+-------+---------+\n",
            "|UFot0hit/|/soccer/germany/b...|     true|2011-08-05|    D1|  2012|germany|  Borussia Dortmund|          Hamburg SV|   3|   1| 1.56| 4.41| 7.42|    NULL|     NULL|   NULL|     NULL|\n",
            "|Aw5DflLH/|/soccer/germany/b...|     true|2011-08-06|    D1|  2012|germany|        FC Augsburg|         SC Freiburg|   2|   2| 2.36|  3.6|  3.4|    NULL|     NULL|   NULL|     NULL|\n",
            "|bkjpaC6n/|/soccer/germany/b...|     true|2011-08-06|    D1|  2012|germany|      Werder Bremen|      Kaiserslautern|   2|   0| 1.83|  4.2|  4.8|    NULL|     NULL|   NULL|     NULL|\n",
            "|CzPV312a/|/soccer/france/li...|     true|2011-08-06|    F1|  2012| france|Paris Saint-Germain|             Lorient|   0|   1| 1.55|  4.5|  9.4|    NULL|     NULL|   NULL|     NULL|\n",
            "|GUOdmtII/|/soccer/france/li...|     true|2011-08-06|    F1|  2012| france|               Caen|        Valenciennes|   1|   0|  2.5|  3.4| 3.45|    NULL|     NULL|   NULL|     NULL|\n",
            "|lOpzwMkp/|/soccer/germany/b...|     true|2011-08-06|    D1|  2012|germany|      Hertha Berlin|            Nurnberg|   0|   1| 2.06| 3.75| 3.95|    NULL|     NULL|   NULL|     NULL|\n",
            "|M7PhlM2C/|/soccer/france/li...|     true|2011-08-06|    F1|  2012| france|              Brest|Evian Thonon Gail...|   2|   2| 2.29| 3.25| 3.85|    NULL|     NULL|   NULL|     NULL|\n",
            "|QuWqjrYa/|/soccer/france/li...|     true|2011-08-06|    F1|  2012| france|         AC Ajaccio|            Toulouse|   0|   2|  2.8|  3.1| 3.05|    NULL|     NULL|   NULL|     NULL|\n",
            "|UBZQ4smg/|/soccer/france/li...|     true|2011-08-06|    F1|  2012| france|               Nice|                Lyon|   1|   3|  4.5| 3.55|  2.0|    NULL|     NULL|   NULL|     NULL|\n",
            "|Wn69eU5B/|/soccer/germany/b...|     true|2011-08-06|    D1|  2012|germany|         FC Cologne|       VfL Wolfsburg|   0|   3|  3.0|  3.8| 2.54|    NULL|     NULL|   NULL|     NULL|\n",
            "+---------+--------------------+---------+----------+------+------+-------+-------------------+--------------------+----+----+-----+-----+-----+--------+---------+-------+---------+\n",
            "only showing top 10 rows\n",
            "\n"
          ]
        }
      ],
      "source": [
        "gameDf.show(10)"
      ]
    },
    {
      "cell_type": "markdown",
      "metadata": {
        "id": "Exo8icV-Bdp0"
      },
      "source": [
        "Here, only required columns are selected"
      ]
    },
    {
      "cell_type": "code",
      "execution_count": null,
      "metadata": {
        "id": "LveMbm5YBaOj"
      },
      "outputs": [],
      "source": [
        "gameDf = gameDf[['id_odsp', 'country', 'adv_stats', 'date', 'league', 'season']]"
      ]
    },
    {
      "cell_type": "code",
      "execution_count": null,
      "metadata": {
        "colab": {
          "base_uri": "https://localhost:8080/"
        },
        "id": "Gk4ZRU2GBdGn",
        "outputId": "76371bb9-c80c-424a-8d63-923ee301727d"
      },
      "outputs": [
        {
          "output_type": "stream",
          "name": "stdout",
          "text": [
            "+---------+-------+---------+----------+------+------+\n",
            "|  id_odsp|country|adv_stats|      date|league|season|\n",
            "+---------+-------+---------+----------+------+------+\n",
            "|UFot0hit/|germany|     true|2011-08-05|    D1|  2012|\n",
            "|Aw5DflLH/|germany|     true|2011-08-06|    D1|  2012|\n",
            "|bkjpaC6n/|germany|     true|2011-08-06|    D1|  2012|\n",
            "|CzPV312a/| france|     true|2011-08-06|    F1|  2012|\n",
            "|GUOdmtII/| france|     true|2011-08-06|    F1|  2012|\n",
            "|lOpzwMkp/|germany|     true|2011-08-06|    D1|  2012|\n",
            "|M7PhlM2C/| france|     true|2011-08-06|    F1|  2012|\n",
            "|QuWqjrYa/| france|     true|2011-08-06|    F1|  2012|\n",
            "|UBZQ4smg/| france|     true|2011-08-06|    F1|  2012|\n",
            "|Wn69eU5B/|germany|     true|2011-08-06|    D1|  2012|\n",
            "+---------+-------+---------+----------+------+------+\n",
            "only showing top 10 rows\n",
            "\n"
          ]
        }
      ],
      "source": [
        "gameDf.show(10)"
      ]
    },
    {
      "cell_type": "code",
      "execution_count": null,
      "metadata": {
        "colab": {
          "base_uri": "https://localhost:8080/"
        },
        "id": "dZp0uhnMBjuG",
        "outputId": "ed53dc96-2fa0-4b48-d63e-df8beb3be233"
      },
      "outputs": [
        {
          "output_type": "stream",
          "name": "stdout",
          "text": [
            "+-------+-------+---------+----+------+------+\n",
            "|id_odsp|country|adv_stats|date|league|season|\n",
            "+-------+-------+---------+----+------+------+\n",
            "|      0|      0|        0|   0|     0|     0|\n",
            "+-------+-------+---------+----+------+------+\n",
            "\n"
          ]
        }
      ],
      "source": [
        "gameDf.select([count(when(col(c).isNull(), c)).alias(c) for c in gameDf.columns]).show()"
      ]
    },
    {
      "cell_type": "markdown",
      "metadata": {
        "id": "I8NtrGJwCGDI"
      },
      "source": [
        "**DICTIONARY.txt**\n",
        "\n",
        "---\n",
        "\n",
        "\n",
        "\n",
        "---\n",
        "\n"
      ]
    },
    {
      "cell_type": "markdown",
      "metadata": {
        "id": "CP2Yr-xBCecd"
      },
      "source": [
        "map values from dictionary to different colums in events dataframe by creating new columns"
      ]
    },
    {
      "cell_type": "code",
      "execution_count": null,
      "metadata": {
        "id": "Tau50P_pBnWm"
      },
      "outputs": [],
      "source": [
        "evtTypeMap = {0:'Announcement', 1:'Attempt', 2:'Corner', 3:'Foul', 4:'Yellow card', 5:'Second yellow card', 6:'Red card', 7:'Substitution', 8:'Free kick won', 9:'Offside', 10:'Hand ball', 11:'Penalty conceded'}\n",
        "\n",
        "evtTyp2Map = {12:'Key Pass', 13:'Failed through ball', 14:'Sending off', 15:'Own goal'}\n",
        "\n",
        "sideMap = {1:'Home', 2:'Away'}\n",
        "\n",
        "shotPlaceMap = {1:'Bit too high', 2:'Blocked', 3:'Bottom left corner', 4:'Bottom right corner', 5:'Centre of the goal', 6:'High and wide', 7:'Hits the bar', 8:'Misses to the left', 9:'Misses to the right', 10:'Too high', 11:'Top centre of the goal', 12:'Top left corner', 13:'Top right corner'}\n",
        "\n",
        "shotOutcomeMap = {1:'On target', 2:'Off target', 3:'Blocked', 4:'Hit the bar'}\n",
        "\n",
        "locationMap = {1:'Attacking half', 2:'Defensive half', 3:'Centre of the box', 4:'Left wing', 5:'Right wing', 6:'Difficult angle and long range', 7:'Difficult angle on the left', 8:'Difficult angle on the right', 9:'Left side of the box', 10:'Left side of the six yard box', 11:'Right side of the box', 12:'Right side of the six yard box', 13:'Very close range', 14:'Penalty spot', 15:'Outside the box', 16:'Long range', 17:'More than 35 yards', 18:'More than 40 yards', 19:'Not recorded'}\n",
        "\n",
        "bodyPartMap = {1:'Right foot', 2:'Left foot', 3:'Head'}\n",
        "\n",
        "assistMethodMap = {0:'None', 1:'Pass', 2:'Cross', 3:'Headed pass', 4:'Through ball'}\n",
        "\n",
        "situationMap = {1:'Open play', 2:'Set piece', 3:'Corner', 4:'Free kick'}\n",
        "\n",
        "countryCodeMap = {'germany':'DEU', 'france':'FRA', 'england':'GBR', 'spain':'ESP', 'italy':'ITA'}"
      ]
    },
    {
      "cell_type": "code",
      "execution_count": null,
      "metadata": {
        "colab": {
          "base_uri": "https://localhost:8080/"
        },
        "id": "ePO-gaZpCMdh",
        "outputId": "f41cfbec-3937-48b8-9acc-e15ff35b62ca"
      },
      "outputs": [
        {
          "output_type": "stream",
          "name": "stdout",
          "text": [
            "+----------+------+\n",
            "|event_type| count|\n",
            "+----------+------+\n",
            "|         1|229135|\n",
            "|         6|  1152|\n",
            "|         3|232925|\n",
            "|         5|   100|\n",
            "|         9| 43476|\n",
            "|         4| 39911|\n",
            "|         8|237932|\n",
            "|         7| 51738|\n",
            "|        10| 10730|\n",
            "|        11|  2706|\n",
            "|         2| 91204|\n",
            "+----------+------+\n",
            "\n"
          ]
        }
      ],
      "source": [
        "eventsDf.groupBy(\"event_type\").count().show()"
      ]
    },
    {
      "cell_type": "markdown",
      "metadata": {
        "id": "zd8b1RW3CkS2"
      },
      "source": [
        "udf to map key to values in dict"
      ]
    },
    {
      "cell_type": "code",
      "execution_count": null,
      "metadata": {
        "id": "q6m84ubdCOXE"
      },
      "outputs": [],
      "source": [
        "from pyspark.sql.types import StringType\n",
        "from pyspark.sql.functions import udf\n",
        "\n",
        "def translateKeys(mapping):\n",
        "    def translateKeys_(col):\n",
        "        return mapping.get(col)\n",
        "    return udf(translateKeys_, StringType())"
      ]
    },
    {
      "cell_type": "markdown",
      "metadata": {
        "id": "7zO3EbMhCyMj"
      },
      "source": [
        "easy access to contry column and spelling mistakes in country names"
      ]
    },
    {
      "cell_type": "code",
      "execution_count": null,
      "metadata": {
        "colab": {
          "base_uri": "https://localhost:8080/",
          "height": 34
        },
        "id": "4NCTnH3iCgvn",
        "outputId": "c849972a-c4bd-4b66-b61d-24586b365155"
      },
      "outputs": [
        {
          "output_type": "display_data",
          "data": {
            "text/plain": [
              "DataFrame[id_odsp: string, country: string, country_code: string]"
            ]
          },
          "metadata": {}
        }
      ],
      "source": [
        "gameDf = gameDf.withColumn(\"country_code\", translateKeys(countryCodeMap)(\"country\"))\n",
        "\n",
        "display(gameDf['id_odsp','country','country_code'])"
      ]
    },
    {
      "cell_type": "code",
      "execution_count": null,
      "metadata": {
        "id": "t0S9mPGpCt3f"
      },
      "outputs": [],
      "source": [
        "eventsDf = (\n",
        "             eventsDf.\n",
        "             withColumn(\"event_type_str\", translateKeys(evtTypeMap)(\"event_type\")).\n",
        "             withColumn(\"event_type2_str\", translateKeys(evtTyp2Map)(\"event_type2\")).\n",
        "             withColumn(\"side_str\", translateKeys(sideMap)(\"side\")).\n",
        "             withColumn(\"shot_place_str\", translateKeys(shotPlaceMap)(\"shot_place\")).\n",
        "             withColumn(\"shot_outcome_str\", translateKeys(shotOutcomeMap)(\"shot_outcome\")).\n",
        "             withColumn(\"location_str\", translateKeys(locationMap)(\"location\")).\n",
        "             withColumn(\"bodypart_str\", translateKeys(bodyPartMap)(\"bodypart\")).\n",
        "             withColumn(\"assist_method_str\", translateKeys(assistMethodMap)(\"assist_method\")).\n",
        "             withColumn(\"situation_str\", translateKeys(situationMap)(\"situation\"))\n",
        "           )"
      ]
    },
    {
      "cell_type": "code",
      "execution_count": null,
      "metadata": {
        "colab": {
          "base_uri": "https://localhost:8080/"
        },
        "id": "0UGiU3kmC5rJ",
        "outputId": "1e8ecb48-6f8b-4cae-a170-1ba58d51ee7d"
      },
      "outputs": [
        {
          "output_type": "stream",
          "name": "stdout",
          "text": [
            "root\n",
            " |-- id_odsp: string (nullable = true)\n",
            " |-- id_event: string (nullable = true)\n",
            " |-- sort_order: integer (nullable = true)\n",
            " |-- time: integer (nullable = true)\n",
            " |-- text: string (nullable = true)\n",
            " |-- event_type: integer (nullable = true)\n",
            " |-- event_type2: integer (nullable = true)\n",
            " |-- side: integer (nullable = true)\n",
            " |-- event_team: string (nullable = false)\n",
            " |-- opponent: string (nullable = false)\n",
            " |-- player: string (nullable = false)\n",
            " |-- player2: string (nullable = true)\n",
            " |-- player_in: string (nullable = true)\n",
            " |-- player_out: string (nullable = true)\n",
            " |-- shot_place: integer (nullable = true)\n",
            " |-- shot_outcome: integer (nullable = true)\n",
            " |-- is_goal: integer (nullable = true)\n",
            " |-- location: integer (nullable = true)\n",
            " |-- bodypart: integer (nullable = true)\n",
            " |-- assist_method: integer (nullable = true)\n",
            " |-- situation: integer (nullable = true)\n",
            " |-- fast_break: integer (nullable = true)\n",
            " |-- event_type_str: string (nullable = true)\n",
            " |-- event_type2_str: string (nullable = true)\n",
            " |-- side_str: string (nullable = true)\n",
            " |-- shot_place_str: string (nullable = true)\n",
            " |-- shot_outcome_str: string (nullable = true)\n",
            " |-- location_str: string (nullable = true)\n",
            " |-- bodypart_str: string (nullable = true)\n",
            " |-- assist_method_str: string (nullable = true)\n",
            " |-- situation_str: string (nullable = true)\n",
            "\n"
          ]
        }
      ],
      "source": [
        "eventsDf.printSchema()"
      ]
    },
    {
      "cell_type": "code",
      "execution_count": null,
      "metadata": {
        "colab": {
          "base_uri": "https://localhost:8080/"
        },
        "id": "0s5yyZb_C8Q6",
        "outputId": "3e946abe-6685-4301-d838-2a8c5860ccf6"
      },
      "outputs": [
        {
          "output_type": "stream",
          "name": "stdout",
          "text": [
            "+------------------+------+\n",
            "|    event_type_str| count|\n",
            "+------------------+------+\n",
            "|         Hand ball| 10730|\n",
            "|          Red card|  1152|\n",
            "|              Foul|232925|\n",
            "|       Yellow card| 39911|\n",
            "|           Attempt|229135|\n",
            "|      Substitution| 51738|\n",
            "|           Offside| 43476|\n",
            "|  Penalty conceded|  2706|\n",
            "|     Free kick won|237932|\n",
            "|Second yellow card|   100|\n",
            "|            Corner| 91204|\n",
            "+------------------+------+\n",
            "\n"
          ]
        }
      ],
      "source": [
        "eventsDf.groupBy(\"event_type_str\").count().show()"
      ]
    },
    {
      "cell_type": "code",
      "execution_count": null,
      "metadata": {
        "id": "fVPqId-SC-Bz"
      },
      "outputs": [],
      "source": [
        "finalDf = (\n",
        "  eventsDf.join(gameDf, eventsDf.id_odsp == gameDf.id_odsp, 'inner').\n",
        "  select(eventsDf.id_odsp, eventsDf.id_event, eventsDf.sort_order, eventsDf.time, eventsDf.event_type,\n",
        "         eventsDf.event_type_str, eventsDf.event_type2, eventsDf.event_type2_str, eventsDf.side,\n",
        "         eventsDf.side_str, eventsDf.event_team, eventsDf.opponent, eventsDf.player, eventsDf.player2,\n",
        "         eventsDf.player_in, eventsDf.player_out, eventsDf.shot_place, eventsDf.shot_place_str,\n",
        "         eventsDf.shot_outcome, eventsDf.shot_outcome_str, eventsDf.is_goal, eventsDf.location,\n",
        "         eventsDf.location_str, eventsDf.bodypart, eventsDf.bodypart_str, eventsDf.assist_method,\n",
        "         eventsDf.assist_method_str, eventsDf.situation, eventsDf.situation_str, gameDf.date, gameDf.league,\n",
        "         gameDf.season, gameDf.country, gameDf.country_code, gameDf.adv_stats)\n",
        ")"
      ]
    },
    {
      "cell_type": "code",
      "execution_count": null,
      "metadata": {
        "colab": {
          "base_uri": "https://localhost:8080/"
        },
        "id": "IoR80JJlDArF",
        "outputId": "f97f5a42-5edc-40e3-81d8-ac5f8698e6a7"
      },
      "outputs": [
        {
          "output_type": "stream",
          "name": "stdout",
          "text": [
            "root\n",
            " |-- id_odsp: string (nullable = true)\n",
            " |-- id_event: string (nullable = true)\n",
            " |-- sort_order: integer (nullable = true)\n",
            " |-- time: integer (nullable = true)\n",
            " |-- event_type: integer (nullable = true)\n",
            " |-- event_type_str: string (nullable = true)\n",
            " |-- event_type2: integer (nullable = true)\n",
            " |-- event_type2_str: string (nullable = true)\n",
            " |-- side: integer (nullable = true)\n",
            " |-- side_str: string (nullable = true)\n",
            " |-- event_team: string (nullable = false)\n",
            " |-- opponent: string (nullable = false)\n",
            " |-- player: string (nullable = false)\n",
            " |-- player2: string (nullable = true)\n",
            " |-- player_in: string (nullable = true)\n",
            " |-- player_out: string (nullable = true)\n",
            " |-- shot_place: integer (nullable = true)\n",
            " |-- shot_place_str: string (nullable = true)\n",
            " |-- shot_outcome: integer (nullable = true)\n",
            " |-- shot_outcome_str: string (nullable = true)\n",
            " |-- is_goal: integer (nullable = true)\n",
            " |-- location: integer (nullable = true)\n",
            " |-- location_str: string (nullable = true)\n",
            " |-- bodypart: integer (nullable = true)\n",
            " |-- bodypart_str: string (nullable = true)\n",
            " |-- assist_method: integer (nullable = true)\n",
            " |-- assist_method_str: string (nullable = true)\n",
            " |-- situation: integer (nullable = true)\n",
            " |-- situation_str: string (nullable = true)\n",
            " |-- date: date (nullable = true)\n",
            " |-- league: string (nullable = true)\n",
            " |-- season: integer (nullable = true)\n",
            " |-- country: string (nullable = true)\n",
            " |-- country_code: string (nullable = true)\n",
            " |-- adv_stats: boolean (nullable = true)\n",
            "\n"
          ]
        }
      ],
      "source": [
        "finalDf.printSchema()"
      ]
    },
    {
      "cell_type": "code",
      "execution_count": null,
      "metadata": {
        "id": "PuFs5siCDB8Z"
      },
      "outputs": [],
      "source": [
        "from pyspark.ml.feature import QuantileDiscretizer\n",
        "\n",
        "finalDf = QuantileDiscretizer(numBuckets=10, inputCol=\"time\", outputCol=\"time_bin\").fit(finalDf).transform(finalDf)"
      ]
    },
    {
      "cell_type": "code",
      "execution_count": null,
      "metadata": {
        "colab": {
          "base_uri": "https://localhost:8080/"
        },
        "id": "uT5v7_f4DE5Y",
        "outputId": "6005f8ff-3e34-4757-b84e-3f0982276443"
      },
      "outputs": [
        {
          "output_type": "stream",
          "name": "stdout",
          "text": [
            "+-------+--------+----------+----+----------+--------------+-----------+---------------+----+--------+----------+--------+------+-------+---------+----------+----------+--------------+------------+----------------+-------+--------+------------+--------+------------+-------------+-----------------+---------+-------------+----+------+------+-------+------------+---------+--------+\n",
            "|id_odsp|id_event|sort_order|time|event_type|event_type_str|event_type2|event_type2_str|side|side_str|event_team|opponent|player|player2|player_in|player_out|shot_place|shot_place_str|shot_outcome|shot_outcome_str|is_goal|location|location_str|bodypart|bodypart_str|assist_method|assist_method_str|situation|situation_str|date|league|season|country|country_code|adv_stats|time_bin|\n",
            "+-------+--------+----------+----+----------+--------------+-----------+---------------+----+--------+----------+--------+------+-------+---------+----------+----------+--------------+------------+----------------+-------+--------+------------+--------+------------+-------------+-----------------+---------+-------------+----+------+------+-------+------------+---------+--------+\n",
            "|      0|       0|         0|   0|         0|             0|     726716|         726716|   0|       0|         0|       0|     0| 649696|   889294|    889271|    713550|        713550|      712511|          712511|      0|  473942|      473942|  711824|      711824|            0|                0|   711872|       711872|   0|     0|     0|      0|           0|        0|       0|\n",
            "+-------+--------+----------+----+----------+--------------+-----------+---------------+----+--------+----------+--------+------+-------+---------+----------+----------+--------------+------------+----------------+-------+--------+------------+--------+------------+-------------+-----------------+---------+-------------+----+------+------+-------+------------+---------+--------+\n",
            "\n"
          ]
        }
      ],
      "source": [
        "finalDf.select([count(when(col(c).isNull(), c)).alias(c) for c in finalDf.columns]).show()"
      ]
    },
    {
      "cell_type": "code",
      "execution_count": null,
      "metadata": {
        "id": "nY7RwRJGDG9o"
      },
      "outputs": [],
      "source": [
        "finalDf = finalDf.na.fill({'player': 'NA', 'event_team': 'NA', 'opponent': 'NA',\n",
        "                             'event_type_str': 'NA', 'event_type2_str': 'NA', 'shot_place_str': 'NA',\n",
        "                             'shot_outcome_str': 'NA', 'location_str': 'NA', 'bodypart_str': 'NA',\n",
        "                             'assist_method_str': 'NA', 'situation_str': 'NA'})"
      ]
    },
    {
      "cell_type": "code",
      "source": [],
      "metadata": {
        "id": "91-Je7LlWzeg"
      },
      "execution_count": null,
      "outputs": []
    },
    {
      "cell_type": "code",
      "source": [],
      "metadata": {
        "id": "4Q1-uAROWzH_"
      },
      "execution_count": null,
      "outputs": []
    },
    {
      "cell_type": "code",
      "source": [
        "from pyspark.ml.feature import VectorAssembler, StringIndexer, MinMaxScaler\n",
        "from pyspark.sql.types import *\n",
        "from pyspark.ml.classification import *\n",
        "from pyspark.ml.evaluation import *\n",
        "from pyspark.sql.functions import *\n",
        "from pyspark.ml.tuning import CrossValidator, ParamGridBuilder"
      ],
      "metadata": {
        "id": "zvzfipoOFo-F"
      },
      "execution_count": null,
      "outputs": []
    },
    {
      "cell_type": "code",
      "source": [
        "import matplotlib.pyplot as plt\n",
        "\n",
        "goal_counts = eventsDf.filter(eventsDf.is_goal == 1).groupBy('event_team').count().orderBy('count', ascending=False).toPandas()\n",
        "\n",
        "top_5_goal_counts = goal_counts.head(5)\n",
        "\n",
        "plt.figure(figsize=(10, 6))\n",
        "\n",
        "teams = top_5_goal_counts['event_team']\n",
        "total_goals = top_5_goal_counts['count']\n",
        "\n",
        "plt.barh(teams, total_goals, color='pink', label='Total Goals')\n",
        "\n",
        "for i, v in enumerate(total_goals):\n",
        "    plt.text(v, i, str(v), va='center', color='black', fontweight='bold')\n",
        "\n",
        "plt.xlabel('Goals')\n",
        "plt.ylabel('Event Team')\n",
        "plt.title('Top 5 Event Teams with Goals')\n",
        "plt.legend()\n",
        "\n",
        "plt.show()\n"
      ],
      "metadata": {
        "colab": {
          "base_uri": "https://localhost:8080/",
          "height": 564
        },
        "id": "WspAUHig7_mN",
        "outputId": "407c8f86-d636-42c2-d456-f5b6f0a5c90e"
      },
      "execution_count": null,
      "outputs": [
        {
          "output_type": "display_data",
          "data": {
            "text/plain": [
              "<Figure size 1000x600 with 1 Axes>"
            ],
            "image/png": "[encoded data removed]"
          },
          "metadata": {}
        }
      ]
    },
    {
      "cell_type": "code",
      "source": [
        "import matplotlib.pyplot as plt\n",
        "\n",
        "goal_counts = eventsDf.filter(eventsDf.is_goal == 1).groupBy('event_team').count().orderBy('count', ascending=False).toPandas()\n",
        "\n",
        "top_5_goal_counts = goal_counts.head(5)\n",
        "\n",
        "# Define a color palette\n",
        "colors = ['skyblue', 'lightcoral', 'lightgreen', 'lightsalmon', 'lightseagreen']\n",
        "\n",
        "plt.figure(figsize=(10, 6))\n",
        "plt.bar(top_5_goal_counts['event_team'], top_5_goal_counts['count'], color=colors)\n",
        "plt.title('Top 5 Event Teams with Goals')\n",
        "plt.xlabel('Event Team')\n",
        "plt.ylabel('Count of Goals')\n",
        "plt.xticks(rotation=45)\n",
        "plt.show()\n"
      ],
      "metadata": {
        "colab": {
          "base_uri": "https://localhost:8080/",
          "height": 658
        },
        "id": "7c3m46u2uW5f",
        "outputId": "d9a7307e-fb81-489e-d67d-19d595a290b3"
      },
      "execution_count": null,
      "outputs": [
        {
          "output_type": "display_data",
          "data": {
            "text/plain": [
              "<Figure size 1000x600 with 1 Axes>"
            ],
            "image/png": "[encoded data removed]"
          },
          "metadata": {}
        }
      ]
    },
    {
      "cell_type": "code",
      "execution_count": null,
      "metadata": {
        "colab": {
          "base_uri": "https://localhost:8080/",
          "height": 675
        },
        "id": "ZZdUwW00GFEd",
        "outputId": "c3d468a4-d486-4a25-fd9e-f8b10a6470ee"
      },
      "outputs": [
        {
          "output_type": "display_data",
          "data": {
            "text/plain": [
              "<Figure size 800x800 with 1 Axes>"
            ],
            "image/png": "[encoded data removed]"
          },
          "metadata": {}
        }
      ],
      "source": [
        "import matplotlib.pyplot as plt\n",
        "\n",
        "goal_counts = eventsDf.filter(eventsDf.is_goal == 1).groupBy('event_team').count().orderBy('count', ascending=False).toPandas()\n",
        "\n",
        "top_5_goal_counts = goal_counts.head(5)\n",
        "\n",
        "plt.figure(figsize=(8, 8))\n",
        "plt.pie(top_5_goal_counts['count'], labels=top_5_goal_counts['event_team'], autopct='%1.1f%%', startangle=100)\n",
        "plt.title('Top 5 Event Teams with Goals')\n",
        "\n",
        "plt.show()"
      ]
    },
    {
      "cell_type": "code",
      "source": [
        "import matplotlib.pyplot as plt\n",
        "\n",
        "# Assuming you have a DataFrame named 'top_5_goal_counts' with 'shot_place' and 'count' columns\n",
        "# 'top_5_goal_counts' should be sorted in the order you want for the legend labels\n",
        "goal_counts = eventsDf.filter(eventsDf.is_goal == 1).groupBy('shot_place').count().orderBy('count', ascending=False).toPandas()\n",
        "\n",
        "# Select the top 5 shot placements\n",
        "top_5_goal_counts = goal_counts.head(5)\n",
        "plt.figure(figsize=(8, 8))\n",
        "plt.pie(top_5_goal_counts['count'], labels=top_5_goal_counts['shot_place'], autopct='%1.1f%%', startangle=100)\n",
        "plt.title('Top 5 Event Teams with Goals')\n",
        "\n",
        "# Customize the legend\n",
        "legend_labels = [\n",
        "    \"Bit too high\",\n",
        "    \"Blocked\",\n",
        "    \"Bottom left corner\",\n",
        "    \"Bottom right corner\",\n",
        "    \"Centre of the goal\",\n",
        "    \"High and wide\",\n",
        "    \"Hits the bar\",\n",
        "    \"Misses to the left\",\n",
        "    \"Misses to the right\",\n",
        "    \"Too high\",\n",
        "    \"Top centre of the goal\",\n",
        "    \"Top left corner\",\n",
        "    \"Top right corner\"\n",
        "]\n",
        "\n",
        "# Create a legend with custom labels\n",
        "plt.legend(legend_labels, title=\"Shot Placement\", loc=\"upper left\")\n",
        "\n",
        "# You can further customize the chart if needed\n",
        "plt.show()\n"
      ],
      "metadata": {
        "colab": {
          "base_uri": "https://localhost:8080/",
          "height": 675
        },
        "id": "pIok__XgEBfn",
        "outputId": "78e6e5d0-18e5-45c4-c155-61f25d03c64c"
      },
      "execution_count": null,
      "outputs": [
        {
          "output_type": "display_data",
          "data": {
            "text/plain": [
              "<Figure size 800x800 with 1 Axes>"
            ],
            "image/png": "[encoded data removed]"
          },
          "metadata": {}
        }
      ]
    },
    {
      "cell_type": "markdown",
      "metadata": {
        "id": "FZAWO9QgI5Nj"
      },
      "source": [
        "***MACHINE LEARNING***\n",
        "\n",
        "---\n"
      ]
    },
    {
      "cell_type": "code",
      "execution_count": null,
      "metadata": {
        "id": "e69SaaUsEFZI"
      },
      "outputs": [],
      "source": [
        "from pyspark.ml import Pipeline\n",
        "from pyspark.ml.classification import GBTClassifier\n",
        "from pyspark.ml.feature import OneHotEncoder, StringIndexer, VectorAssembler\n",
        "from pyspark.ml.evaluation import BinaryClassificationEvaluator"
      ]
    },
    {
      "cell_type": "code",
      "execution_count": null,
      "metadata": {
        "colab": {
          "base_uri": "https://localhost:8080/"
        },
        "id": "PNdNPHjSEGjL",
        "outputId": "9a94da6b-3489-45cd-b7cb-771a8c27ecac"
      },
      "outputs": [
        {
          "output_type": "execute_result",
          "data": {
            "text/plain": [
              "VectorAssembler_2ebca124b422"
            ]
          },
          "metadata": {},
          "execution_count": 37
        }
      ],
      "source": [
        "categFeatures = [\"event_type_str\", \"event_team\", \"shot_place_str\", \"location_str\", \"assist_method_str\", \"situation_str\", \"country_code\"]\n",
        "\n",
        "stringIndexers = [StringIndexer().setInputCol(baseFeature).setOutputCol(baseFeature + \"_idx\") for baseFeature in categFeatures]\n",
        "\n",
        "encoders = [OneHotEncoder().setInputCol(baseFeature + \"_idx\").setOutputCol(baseFeature + \"_vec\") for baseFeature in categFeatures]\n",
        "\n",
        "featureAssembler = VectorAssembler()\n",
        "featureAssembler.setInputCols([baseFeature + \"_vec\" for baseFeature in categFeatures])\n",
        "featureAssembler.setOutputCol(\"features\")"
      ]
    },
    {
      "cell_type": "code",
      "source": [],
      "metadata": {
        "id": "5sgaDH1LNXGw"
      },
      "execution_count": null,
      "outputs": []
    },
    {
      "cell_type": "code",
      "source": [
        "from pyspark.sql import SparkSession\n",
        "from pyspark.ml import Pipeline\n",
        "from pyspark.ml.classification import NaiveBayes, RandomForestClassifier, GBTClassifier, LinearSVC\n",
        "from pyspark.ml.evaluation import BinaryClassificationEvaluator\n",
        "from sklearn.metrics import accuracy_score, precision_score, recall_score, f1_score, confusion_matrix, roc_auc_score, average_precision_score, matthews_corrcoef, cohen_kappa_score\n",
        "import pandas as pd\n",
        "\n",
        "spark = SparkSession.builder.appName(\"ClassificationMetrics\").getOrCreate()\n",
        "\n",
        "(trainingData, testData) = finalDf.randomSplit([0.75, 0.25])\n",
        "\n",
        "classifiers = {\n",
        "    \"Naive Bayes\": NaiveBayes(labelCol=\"is_goal\", featuresCol=\"features\", smoothing=1.0),\n",
        "    \"Random Forest\": RandomForestClassifier(labelCol=\"is_goal\", featuresCol=\"features\", numTrees=10),\n",
        "    \"GBT Classifier\": GBTClassifier(labelCol=\"is_goal\", featuresCol=\"features\", maxDepth=5, maxIter=20),\n",
        "    \"SVM\": LinearSVC(labelCol=\"is_goal\", featuresCol=\"features\", maxIter=100)\n",
        "}\n",
        "\n",
        "accuracy_list, precision_list, recall_list, f1_list, roc_auc_list, avg_precision_list, mcc_list, kappa_list = [], [], [], [], [], [], [], []\n",
        "\n",
        "for classifier_name, classifier in classifiers.items():\n",
        "    pipelineStages = stringIndexers + encoders + [featureAssembler, classifier]\n",
        "    pipeline = Pipeline(stages=pipelineStages)\n",
        "\n",
        "    model = pipeline.fit(trainingData)\n",
        "\n",
        "    predictions = model.transform(testData)\n",
        "\n",
        "    true_labels = [int(row.is_goal) for row in predictions.select(\"is_goal\").collect()]\n",
        "    model_predictions = [int(row.prediction) for row in predictions.select(\"prediction\").collect()]\n",
        "\n",
        "    evaluator = BinaryClassificationEvaluator(labelCol=\"is_goal\", rawPredictionCol=\"prediction\")\n",
        "    evaluation = evaluator.evaluate(predictions)\n",
        "\n",
        "    accuracy = accuracy_score(true_labels, model_predictions)\n",
        "    precision = precision_score(true_labels, model_predictions)\n",
        "    recall = recall_score(true_labels, model_predictions)\n",
        "    f1 = f1_score(true_labels, model_predictions)\n",
        "    roc_auc = roc_auc_score(true_labels, model_predictions)\n",
        "    avg_precision = average_precision_score(true_labels, model_predictions)\n",
        "    mcc = matthews_corrcoef(true_labels, model_predictions)\n",
        "    kappa = cohen_kappa_score(true_labels, model_predictions)\n",
        "\n",
        "    accuracy_list.append(accuracy)\n",
        "    precision_list.append(precision)\n",
        "    recall_list.append(recall)\n",
        "    f1_list.append(f1)\n",
        "    roc_auc_list.append(roc_auc)\n",
        "    avg_precision_list.append(avg_precision)\n",
        "    mcc_list.append(mcc)\n",
        "    kappa_list.append(kappa)\n",
        "\n",
        "metrics_dict = {\n",
        "    \"Classifier\": list(classifiers.keys()),\n",
        "    \"Accuracy\": accuracy_list,\n",
        "    \"Precision\": precision_list,\n",
        "    \"Recall\": recall_list,\n",
        "    \"F1-Score\": f1_list,\n",
        "    \"ROC AUC\": roc_auc_list,\n",
        "    \"Avg Precision (AUC-PR)\": avg_precision_list,\n",
        "    \"MCC\": mcc_list,\n",
        "    \"Cohen's Kappa\": kappa_list\n",
        "}\n",
        "\n",
        "metrics_df = pd.DataFrame(metrics_dict)\n",
        "\n",
        "print(metrics_df)\n"
      ],
      "metadata": {
        "id": "wA4gTtZdQx91"
      },
      "execution_count": null,
      "outputs": []
    },
    {
      "cell_type": "code",
      "source": [],
      "metadata": {
        "id": "HMv3-7blWQq8"
      },
      "execution_count": null,
      "outputs": []
    },
    {
      "cell_type": "code",
      "source": [],
      "metadata": {
        "id": "OQa8DErMWQfM"
      },
      "execution_count": null,
      "outputs": []
    },
    {
      "cell_type": "code",
      "source": [
        "from tabulate import tabulate\n",
        "table = tabulate(metrics_df, headers=\"keys\", tablefmt=\"pretty\", showindex=False)\n",
        "print(table)"
      ],
      "metadata": {
        "id": "dAhkae1BybK5"
      },
      "execution_count": null,
      "outputs": []
    },
    {
      "cell_type": "code",
      "source": [
        "finalDf.createOrReplaceTempView(\"soccer\")"
      ],
      "metadata": {
        "id": "zRFvrWgjBXYN"
      },
      "execution_count": null,
      "outputs": []
    },
    {
      "cell_type": "code",
      "source": [
        "tot_goals = spark.sql(\"SELECT country, COUNT(1) AS TOT_GOALS FROM soccer WHERE is_goal = 1 GROUP BY country\\\n",
        "                    ORDER BY 2 DESC\")\n",
        "tot_goals.show()"
      ],
      "metadata": {
        "id": "mNNIPcvV4ypv"
      },
      "execution_count": null,
      "outputs": []
    },
    {
      "cell_type": "code",
      "source": [
        "import matplotlib.pyplot as plt\n",
        "tot_goals_pd = tot_goals.toPandas()\n",
        "\n",
        "# Create a pie chart\n",
        "plt.figure(figsize=(8, 8))\n",
        "plt.pie(tot_goals_pd['TOT_GOALS'], labels=tot_goals_pd['country'], autopct='%1.1f%%', startangle=140)\n",
        "plt.axis('equal')  # Equal aspect ratio ensures that pie is drawn as a circle.\n",
        "\n",
        "# Set a title\n",
        "plt.title('Distribution of Total Goals by Country')\n",
        "\n",
        "# Display the chart\n",
        "plt.show()\n"
      ],
      "metadata": {
        "id": "Tk8U9djjDkf3"
      },
      "execution_count": null,
      "outputs": []
    },
    {
      "cell_type": "code",
      "source": [
        "num_of_goals = spark.sql(\"SELECT time_bin, count(1) as num_of_goals FROM soccer \\\n",
        "                    WHERE is_goal = 1 GROUP BY time_bin ORDER BY 1\")\n",
        "\n",
        "num_of_goals.show()\n"
      ],
      "metadata": {
        "id": "an8_eTT5_So_"
      },
      "execution_count": null,
      "outputs": []
    },
    {
      "cell_type": "code",
      "source": [
        "import matplotlib.pyplot as plt\n",
        "\n",
        "# Assuming you have the 'num_of_goals' DataFrame\n",
        "num_of_goals_pd = num_of_goals.toPandas()\n",
        "\n",
        "plt.figure(figsize=(10, 5))\n",
        "plt.fill_between(num_of_goals_pd['time_bin'], num_of_goals_pd['num_of_goals'], alpha=0.2)\n",
        "plt.plot(num_of_goals_pd['time_bin'], num_of_goals_pd['num_of_goals'], color='b')\n",
        "plt.title('Number of Goals by Time Bin')\n",
        "plt.xlabel('Time Bin')\n",
        "plt.ylabel('Number of Goals')\n",
        "plt.grid(True)\n",
        "plt.show()\n"
      ],
      "metadata": {
        "id": "8O5gfHToD9s-"
      },
      "execution_count": null,
      "outputs": []
    },
    {
      "cell_type": "code",
      "source": [
        "goals = num_of_goals.toPandas()\n",
        "\n",
        "plot3_ = goals.plot.bar(x='time_bin', y='num_of_goals', figsize=(20,5))"
      ],
      "metadata": {
        "id": "CmyDUcuV_960"
      },
      "execution_count": null,
      "outputs": []
    },
    {
      "cell_type": "code",
      "source": [
        "country_goals = spark.sql(\"SELECT country, TIME_BIN, COUNT(1) TOT_GOALS \\\n",
        "                  FROM soccer \\\n",
        "                  WHERE is_goal = 1 \\\n",
        "                  GROUP BY country, TIME_BIN \\\n",
        "                  ORDER BY country, TIME_BIN\")\n",
        "country_goals.show(50)"
      ],
      "metadata": {
        "id": "4FYbDJi3_-YD"
      },
      "execution_count": null,
      "outputs": []
    },
    {
      "cell_type": "code",
      "source": [
        "line = country_goals.toPandas()\n",
        "\n",
        "df = line.pivot(index='TIME_BIN', columns='country', values='TOT_GOALS')\n",
        "\n",
        "lines = df.plot.line(figsize=(15, 5))"
      ],
      "metadata": {
        "id": "YZGMyzFgAk_J"
      },
      "execution_count": null,
      "outputs": []
    },
    {
      "cell_type": "code",
      "source": [],
      "metadata": {
        "id": "La3n4EE-IXKz"
      },
      "execution_count": null,
      "outputs": []
    }
  ],
  "metadata": {
    "colab": {
      "provenance": []
    },
    "kernelspec": {
      "display_name": "Python 3",
      "name": "python3"
    },
    "language_info": {
      "name": "python"
    }
  },
  "nbformat": 4,
  "nbformat_minor": 0
}